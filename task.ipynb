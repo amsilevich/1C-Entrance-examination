{
 "cells": [
  {
   "cell_type": "code",
   "execution_count": 1,
   "metadata": {
    "scrolled": true
   },
   "outputs": [],
   "source": [
    "import numpy as np\n",
    "import statistics\n",
    "import matplotlib.pyplot as plt\n",
    "from matplotlib.image import imread\n",
    "%matplotlib inline"
   ]
  },
  {
   "cell_type": "code",
   "execution_count": 2,
   "metadata": {},
   "outputs": [],
   "source": [
    "def get_row(arr, i, j):    # выясняет, сколько черных пикселей находится рядом в \n",
    "    count = 0;             # сумме слева и справа от текущего черного пикселя\n",
    "    for delta in range(i - 1, -1, -1): # идем влево\n",
    "        if (arr[delta][j] == 0):\n",
    "            count += 1\n",
    "        else:\n",
    "            break\n",
    "    for delta in range(i + 1, len(arr)): # идем вправо\n",
    "        if (arr[delta][j] == 0):\n",
    "            count += 1\n",
    "        else:\n",
    "            break\n",
    "    return count + 1\n",
    "            \n",
    "def get_col (arr, i, j):    # выясняет, сколько черных пикселей находится рядом в \n",
    "    count = 0;              # сумме сверху и снизу от текущего черного пикселя\n",
    "    for delta in range(j - 1, -1, -1): # идем вверх\n",
    "        if (arr[i][delta] == 0):\n",
    "            count += 1\n",
    "        else:\n",
    "            break\n",
    "    for delta in range(j + 1, len(arr[0])): # идем вниз\n",
    "        if (arr[i][delta] == 0):\n",
    "            count += 1\n",
    "        else:\n",
    "            break\n",
    "    return count + 1"
   ]
  },
  {
   "cell_type": "code",
   "execution_count": 3,
   "metadata": {},
   "outputs": [],
   "source": [
    "\n",
    "def get_width(new_A): # функция находит ширину ребер на данном изображении\n",
    "    n = len(new_A)\n",
    "    m = len(new_A[0])\n",
    "    values = np.arange(n * m);\n",
    "    size = 0\n",
    "    for i in range(0, len(new_A)):\n",
    "        for j in range(0, len(new_A[i])):\n",
    "            if new_A[i][j] == 0:\n",
    "                row_count = get_row(new_A, i, j) # считаем \n",
    "                col_count = get_col(new_A, i, j)\n",
    "                values[size] = min(row_count, col_count); # в ответ кладем минимальное значение для данного пикселя из ответа \"по строке\" и \"по столбцу\"\n",
    "                #print(values[size])\n",
    "                size += 1\n",
    "    values = values[0:size]\n",
    "    return statistics.mode(values) # среди значений полученных для каждого пикселя, берем моду\n"
   ]
  },
  {
   "cell_type": "code",
   "execution_count": 4,
   "metadata": {},
   "outputs": [],
   "source": [
    "\n",
    "def get_width(new_A): # функция находит ширину ребер на данном изображении\n",
    "    n = len(new_A)\n",
    "    m = len(new_A[0])\n",
    "    values = np.arange(n * m);\n",
    "    size = 0\n",
    "    for i in range(0, len(new_A)):\n",
    "        for j in range(0, len(new_A[i])):\n",
    "            if new_A[i][j] == 0:\n",
    "                row_count = get_row(new_A, i, j) # считаем \n",
    "                col_count = get_col(new_A, i, j)\n",
    "                values[size] = min(row_count, col_count); # в ответ кладем минимальное значение для данного пикселя из ответа \"по строке\" и \"по столбцу\"\n",
    "                #print(values[size])\n",
    "                size += 1\n",
    "    values = values[0:size]\n",
    "    return statistics.mode(values) # среди значений полученных для каждого пикселя, берем моду\n",
    "   "
   ]
  },
  {
   "cell_type": "code",
   "execution_count": 5,
   "metadata": {},
   "outputs": [],
   "source": [
    "def get_input():\n",
    "    A = imread('image.png').astype(np.float) # преобразуем png-изображение в двумерную(трехмерную) матрицу (зависит от размера изображения)\n",
    "    _ = plt.imshow(A, cmap='gray') # на всякий случай выводим изображение на экран\n",
    "    new_A = np.arange(A.shape[0] * A.shape[1]).reshape(A.shape[0], A.shape[1]) # создаем уже двумерную матрицу, соотвествующую изображению, в каждом элементе которого единица, если пиксель белый, ноль, если черный\n",
    "    for i in range(0, A.shape[0]): # заполняем нашу матрицу\n",
    "        for j in range(0, A.shape[1]): \n",
    "            if (len(A.shape) == 3):\n",
    "                if (A[i][j][0] != 1 or A[i][j][1] != 1 or A[i][j][2] != 1):\n",
    "                    new_A[i][j] = 0\n",
    "                else:\n",
    "                    new_A[i][j] = 1;\n",
    "            else:\n",
    "                if (A[i][j] != 1):\n",
    "                    new_A[i][j] = 0;\n",
    "                else:\n",
    "                    new_A[i][j] = 1;\n",
    "    return new_A"
   ]
  },
  {
   "cell_type": "code",
   "execution_count": 6,
   "metadata": {},
   "outputs": [],
   "source": [
    "def get_satisfying_ratio(edge_width, window_width): # эвристическая функция, с помощью которой вычисляется удовлетворительное для точки пересечения или вершины отношение черных пикселей ко всем\n",
    "    return (edge_width / window_width) * 1.5 # константа 1.5 описана в документации (wiki)\n",
    "\n",
    "def get_ans(arr, edge_width, window_width): # для закрепленного размера окна считаем в скольких окнах есть пересечения ребер ии вершина (в нашем решении это неразличимые случаи)\n",
    "    n = len(arr)\n",
    "    m = len(arr[0])\n",
    "    count_rows = (n + window_width - 1) // window_width\n",
    "    count_cols = (m + window_width - 1) // window_width\n",
    "    windows = np.zeros(count_rows * count_cols * 2).reshape((count_rows, count_cols, 2)) # массив окон (квадратов на которые разбиваем матрицу)\n",
    "    for i in range(0, n):\n",
    "        for j in range(0, m):\n",
    "            win_row = i // window_width\n",
    "            win_col = j // window_width\n",
    "            if arr[i][j] == 1:\n",
    "                windows[win_row][win_col][0] += 1 # считаем количество черных и белых пикселей в окне\n",
    "            else:\n",
    "                windows[win_row][win_col][1] += 1\n",
    "    ans = 0\n",
    "    for i in range(0, count_rows):\n",
    "        for j in range(0, count_cols):\n",
    "            white_pixels = windows[i][j][0]\n",
    "            black_pixels = windows[i][j][1]\n",
    "            ratio = black_pixels / (white_pixels + black_pixels)\n",
    "            if (ratio > get_satisfying_ratio(edge_width, window_width)): # если в нашем квадрате удовлетворяющее нас отношение - значит есть пересечение\n",
    "                ans += 1\n",
    "    return ans\n",
    "            "
   ]
  },
  {
   "cell_type": "code",
   "execution_count": 7,
   "metadata": {},
   "outputs": [
    {
     "name": "stdout",
     "output_type": "stream",
     "text": [
      "0\n",
      "4\n",
      "8\n",
      "7\n",
      "8\n",
      "9\n",
      "7\n",
      "9\n",
      "11\n",
      "9\n",
      "7\n"
     ]
    },
    {
     "data": {
      "text/plain": [
       "7"
      ]
     },
     "execution_count": 7,
     "metadata": {},
     "output_type": "execute_result"
    },
    {
     "data": {
      "image/png": "[encoded data removed]",
      "text/plain": [
       "<Figure size 432x288 with 1 Axes>"
      ]
     },
     "metadata": {
      "needs_background": "light"
     },
     "output_type": "display_data"
    }
   ],
   "source": [
    "\n",
    "def solve(down, up):\n",
    "    vertex_count = int(input())\n",
    "    new_A = get_input() # считываем матрицу\n",
    "    width = get_width(new_A) # находим ширину ребер\n",
    "    results = np.arange((up - down) * width) # массив результатов экспериментов\n",
    "    size = 0\n",
    "    for i in range(down * width, up * width): # проводим эксперименты для квадратов различного размера\n",
    "        results[size] = get_ans(new_A, width, i) \n",
    "        print(results[size])\n",
    "        size += 1\n",
    "    return statistics.mode(results) - vertex_count # считаем количество всевозможных пересечений, вычитая введенной количество вершин\n",
    "    \n",
    "solve(3, 5) # рассматриваем окна размеров от 3 * ширина_ребра до 5 * ширина_ребра (константы 3, 5 получены экспериментально), однако они вролне вариативны"
   ]
  }
 ],
 "metadata": {
  "kernelspec": {
   "display_name": "Python 3",
   "language": "python",
   "name": "python3"
  },
  "language_info": {
   "codemirror_mode": {
    "name": "ipython",
    "version": 3
   },
   "file_extension": ".py",
   "mimetype": "text/x-python",
   "name": "python",
   "nbconvert_exporter": "python",
   "pygments_lexer": "ipython3",
   "version": "3.8.5"
  }
 },
 "nbformat": 4,
 "nbformat_minor": 4
}
